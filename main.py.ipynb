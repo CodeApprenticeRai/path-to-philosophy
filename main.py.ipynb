{
 "cells": [
  {
   "cell_type": "code",
   "execution_count": null,
   "metadata": {},
   "outputs": [],
   "source": [
    "from bs4 import BeautifulSoup\n",
    "import requests\n",
    "import pprint as pp\n",
    "from bs4.diagnose import diagnose\n",
    "import urllib.request\n",
    "from pyquery import PyQuery  \n",
    "\n",
    "pn = '/wiki/Telephone'\n",
    "base = \"http://en.wikipedia.org\"\n",
    " \n",
    "loops = 0 \n",
    "while (loops < 10):# or (pn != 'Philosophy'):\n",
    "    loops += 1 \n",
    "    #sets url \n",
    "    url = base + pn\n",
    "    visited = []\n",
    "   \n",
    "    \n",
    "    #gets html from url \n",
    "    with urllib.request.urlopen(url) as response:\n",
    "        url_html = response.read()\n",
    "    \n",
    "    \n",
    "    pq= PyQuery(url_html)\n",
    "    url_title = BeautifulSoup((pq.attr(id='pre-content heading-holder')('h1')).html()).p.contents[0]\n",
    "    visited.append(url_title)\n",
    "    #This will break as soon as the link isn't in the first paragraph :(\n",
    "    c1 =pq.attr(id='mf-section-0', class_='mf-section-0')('p')\n",
    "    \n",
    "    #get next link path\n",
    "    soup = BeautifulSoup(c1.html())\n",
    "    pn = soup.a.get('href')\n",
    "\n",
    "#----------------------------\n",
    "visited.append('Philosophy')\n",
    "print(line for line in visited)"
   ]
  },
  {
   "cell_type": "code",
   "execution_count": null,
   "metadata": {
    "collapsed": true
   },
   "outputs": [],
   "source": []
  }
 ],
 "metadata": {
  "kernelspec": {
   "display_name": "Python 3",
   "language": "python",
   "name": "python3"
  },
  "language_info": {
   "codemirror_mode": {
    "name": "ipython",
    "version": 3
   },
   "file_extension": ".py",
   "mimetype": "text/x-python",
   "name": "python",
   "nbconvert_exporter": "python",
   "pygments_lexer": "ipython3",
   "version": "3.6.1"
  }
 },
 "nbformat": 4,
 "nbformat_minor": 2
}
