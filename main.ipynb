{
 "cells": [
  {
   "cell_type": "code",
   "execution_count": 49,
   "metadata": {},
   "outputs": [],
   "source": [
    "from bs4 import BeautifulSoup\n",
    "import requests\n",
    "from collections import deque\n",
    "\n",
    "def valid_wiki_link(link):\n",
    "    media_file_extensions = [\".ogg\",\"jpg\"]\n",
    "    if( \n",
    "        ( link == None) or\n",
    "        (len(link) < 6) or\n",
    "        (link[:6] != \"/wiki/\") or\n",
    "        ( \":\" in link ) or\n",
    "        (link[6:6+5] == \"File:\") or\n",
    "        (link[6:6+5] == \"Help:\") or\n",
    "        (link[6:6+5] == \"Talk:\") or\n",
    "        (link[6:6+7] == \"Portal:\") or\n",
    "        (link[6:6+8] == \"Special:\") or\n",
    "        (link[6:6+9] == \"Category:\") or\n",
    "        (link[6:6+9] == \"Template:\") or\n",
    "        (link[6:6+10] == \"Wikipedia:\") or\n",
    "        (link[-4:] in media_file_extensions) or\n",
    "        ( \"/w/index.php\" in link )\n",
    "    ):\n",
    "        return False\n",
    "    else:\n",
    "        return True\n",
    "\n",
    "'''\n",
    "    DUM BFS\n",
    "'''\n",
    "def crawl_to_philosophy_bfs(starting_wiki_link):\n",
    "    has_been_queued = {}\n",
    "    queue=deque([starting_wiki_link])\n",
    "    \n",
    "    pages_visited = 0 \n",
    "    while ( (queue[0].lower() != \"/wiki/philosophy\" ) and (len(queue)>0) ):\n",
    "        pages_visited += 1\n",
    "        page_url = \"https://en.wikipedia.org\" + queue.popleft()\n",
    "        html_page = requests.get( page_url ).content\n",
    "        soup = BeautifulSoup( html_page, 'html.parser')\n",
    "        out_links =  [ link.get(\"href\") for link in soup.find_all('a') if valid_wiki_link(link.get(\"href\")) ]\n",
    "        for link in out_links:\n",
    "            if link not in has_been_queued:\n",
    "                queue.append( link )\n",
    "                has_been_queued[link] = True\n",
    "        \n",
    "        if ( pages_visited % 50 == 0 ):\n",
    "            print( \"Number of pages visited: {}, {}\".format( pages_visited, len(queue) ) )\n",
    "    \n",
    "    if ((len(queue)>0) and (queue[0]==\"/wiki/philosophy\")):\n",
    "        print(\"Traversed from page '{}' to Philosophy after taking {} links.\".format( starting_page_tile, pages_visited ) )\n",
    "    else:\n",
    "        print(\"We reached a dead end page, congratulations. You proved the hypothesis false!\")\n",
    "        \n",
    "    return pages_visited\n",
    "\n",
    "def get_valid_wiki_out_links(wiki_link):\n",
    "        page_url = \"https://en.wikipedia.org\" + wiki_link\n",
    "        html_page = requests.get( page_url ).content\n",
    "        soup = BeautifulSoup( html_page, 'html.parser')\n",
    "        out_links = [ link.get(\"href\").lower() for link in soup.find_all('a') if valid_wiki_link(link.get(\"href\")) ][::-1]\n",
    "        return out_links\n",
    "    \n",
    "'''\n",
    "    What I would like this thing to do:\n",
    "    * get all the links on the page with links at the top of the page having higher priority.\n",
    "    * travel through the highest priority link always until we reach philosophy\n",
    "'''\n",
    "\n",
    "def crawl_to_philosophy(starting_wiki_link):\n",
    "    visited = {}\n",
    "    has_been_queued = { starting_wiki_link.lower(): True }\n",
    "    queue=[[starting_wiki_link]]\n",
    "    \n",
    "    reaching_goal_possible = (len(queue)>0)\n",
    "    goal_reached =  \"/wiki/philosophy\" in has_been_queued #(len(queue[-1])>0) and (queue[-1][-1].lower() == \"/wiki/philosophy\")\n",
    "    \n",
    "    while ( not(goal_reached) and reaching_goal_possible ):\n",
    "        wiki_link = queue[-1].pop()\n",
    "        if wiki_link.lower() in visited:\n",
    "            continue\n",
    "        else:\n",
    "            visited[wiki_link.lower()] = True\n",
    "        \n",
    "        print(\"{} {}\".format(len(visited), wiki_link))\n",
    "        \n",
    "        _out_links = get_valid_wiki_out_links(wiki_link)[::-1] #! reversing bad for performance, but enforces intented priority\n",
    "        out_links = []\n",
    "        for link in _out_links:\n",
    "            if link not in has_been_queued:\n",
    "                out_links.append( link )\n",
    "                has_been_queued[ link.lower() ] = True\n",
    "        \n",
    "        if (len(queue[-1]) == 0):\n",
    "            queue.pop()\n",
    "        if (len(out_links) > 0): \n",
    "            queue.append( out_links )\n",
    "        \n",
    "        reaching_goal_possible = (len(queue)>0)\n",
    "        goal_reached =  \"/wiki/philosophy\" in has_been_queued #(len(queue[-1])>0) and (queue[-1][-1].lower() != \"/wiki/philosophy\")\n",
    "    \n",
    "    if (\"/wiki/philosophy\" in has_been_queued):\n",
    "        print(\"\\nPhilosphy has been found starting from page '{}' after expanding {} links.\".format( starting_wiki_link, len(visited) ) )\n",
    "    else:\n",
    "        print(\"We reached a dead end page, congratulations. You proved the hypothesis false!\")\n",
    "        \n",
    "    return len(has_been_queued)"
   ]
  },
  {
   "cell_type": "code",
   "execution_count": 51,
   "metadata": {},
   "outputs": [
    {
     "name": "stdout",
     "output_type": "stream",
     "text": [
      "1 /wiki/Dolph_Lundgren\n",
      "2 /wiki/main_page\n",
      "3 /wiki/wikimedia_foundation\n",
      "\n",
      "Philosphy has been found starting from page '/wiki/Dolph_Lundgren' after expanding 3 links.\n"
     ]
    },
    {
     "data": {
      "text/plain": [
       "938"
      ]
     },
     "execution_count": 51,
     "metadata": {},
     "output_type": "execute_result"
    }
   ],
   "source": [
    "# It works, could \n",
    "crawl_to_philosophy(\"/wiki/Dolph_Lundgren\") "
   ]
  },
  {
   "cell_type": "code",
   "execution_count": null,
   "metadata": {},
   "outputs": [],
   "source": []
  },
  {
   "cell_type": "code",
   "execution_count": null,
   "metadata": {},
   "outputs": [],
   "source": []
  },
  {
   "cell_type": "code",
   "execution_count": null,
   "metadata": {},
   "outputs": [],
   "source": [
    "class PathFinderGame:\n",
    "    def __init__(self):\n",
    "        self.starting_page_title = None\n",
    "        return None\n",
    "    \n",
    "    '''\n",
    "    !!\n",
    "    '''\n",
    "    def start(self):\n",
    "        while ( self.starting_link == None ):\n",
    "            proposed_starting_page_title = input(\"Enter the title of the wiki page you'd like to start from: \")\n",
    "            \n",
    "            if ( self.verify_wiki_page_title( proposed_starting_link ) == True ):\n",
    "                self.starting_page_title = proposed_starting_link\n",
    "            else:\n",
    "                print(\"There is no wiki page that exists with that title\")\n",
    "        \n",
    "        # dfs stuff\n",
    "        \n",
    "        return None\n",
    "    \n",
    "        \n",
    "    '''\n",
    "        bool : \n",
    "        \n",
    "        Given a page title as a String,\n",
    "        Checks whether a Wikipedia Page with that title exists  \n",
    "    '''\n",
    "    def verify_wiki_page_title(self, title):\n",
    "        return True\n",
    "        "
   ]
  },
  {
   "cell_type": "code",
   "execution_count": null,
   "metadata": {},
   "outputs": [],
   "source": []
  },
  {
   "cell_type": "code",
   "execution_count": null,
   "metadata": {},
   "outputs": [],
   "source": [
    "\n",
    "\n"
   ]
  },
  {
   "cell_type": "code",
   "execution_count": null,
   "metadata": {},
   "outputs": [],
   "source": []
  },
  {
   "cell_type": "code",
   "execution_count": null,
   "metadata": {},
   "outputs": [],
   "source": []
  }
 ],
 "metadata": {
  "kernelspec": {
   "display_name": "Python 3",
   "language": "python",
   "name": "python3"
  },
  "language_info": {
   "codemirror_mode": {
    "name": "ipython",
    "version": 3
   },
   "file_extension": ".py",
   "mimetype": "text/x-python",
   "name": "python",
   "nbconvert_exporter": "python",
   "pygments_lexer": "ipython3",
   "version": "3.7.6"
  }
 },
 "nbformat": 4,
 "nbformat_minor": 2
}
