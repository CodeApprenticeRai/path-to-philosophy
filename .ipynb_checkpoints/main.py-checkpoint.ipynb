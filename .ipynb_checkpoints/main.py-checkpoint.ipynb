{
 "cells": [
  {
   "cell_type": "code",
   "execution_count": 5,
   "metadata": {},
   "outputs": [
    {
     "name": "stderr",
     "output_type": "stream",
     "text": [
      "c:\\users\\tare\\appdata\\local\\programs\\python\\python36-32\\lib\\site-packages\\bs4\\__init__.py:181: UserWarning: No parser was explicitly specified, so I'm using the best available HTML parser for this system (\"lxml\"). This usually isn't a problem, but if you run this code on another system, or in a different virtual environment, it may use a different parser and behave differently.\n",
      "\n",
      "The code that caused this warning is on line 193 of the file c:\\users\\tare\\appdata\\local\\programs\\python\\python36-32\\lib\\runpy.py. To get rid of this warning, change code that looks like this:\n",
      "\n",
      " BeautifulSoup(YOUR_MARKUP})\n",
      "\n",
      "to this:\n",
      "\n",
      " BeautifulSoup(YOUR_MARKUP, \"lxml\")\n",
      "\n",
      "  markup_type=markup_type))\n"
     ]
    }
   ],
   "source": [
    "#As of now I need to find a way to ignore phonetic related links that are typically found near the beginning of words.\n",
    "\n",
    "#Originally tried to parse with bs4, but it kept returning null finds despite content actually being present\n",
    "from bs4 import BeautifulSoup\n",
    "import requests\n",
    "import pprint as pp\n",
    "from bs4.diagnose import diagnose\n",
    "import urllib.request\n",
    "from pyquery import PyQuery  \n",
    "\n",
    "pn = '/wiki/Telephone'\n",
    "#pn = '/wiki/Transmission_(telecommunications)'\n",
    "base = \"http://en.wikipedia.org\"\n",
    " \n",
    "loops = 0  #testing\n",
    "\n",
    "\n",
    "visited = []\n",
    "\n",
    "#while (pn != '/wiki/Philosophy'):\n",
    "while(loops < 15): #testing\n",
    "\n",
    "    loops += 1 \n",
    "    #sets url \n",
    "    url = base + pn\n",
    "\n",
    "\n",
    "\n",
    "    #gets html from url \n",
    "    with urllib.request.urlopen(url) as response:\n",
    "        url_html = response.read()\n",
    "\n",
    "\n",
    "    pq= PyQuery(url_html)\n",
    "    \n",
    "    #got script to run favorably, but a small mistake in the logic I used to make the script progress from page to page causes\n",
    "    #recursive traps\n",
    "    \n",
    "    #Here is me trying to error handle\n",
    "    utt_ = pn.split('/')[2]\n",
    "    if '_' in utt_[1]:\n",
    "        utt_ = utt_.replace('_',' ')        \n",
    "    url_title = utt_  #BeautifulSoup((pq.attr(id='pre-content heading-holder')('h1')).html()).p.contents[0]\n",
    "    \n",
    "    \n",
    "    if url_title not in visited:\n",
    "        visited.append(url_title)\n",
    "\n",
    "    c1 =pq.attr(id='mf-section-0', class_='mf-section-0')('p')\n",
    "\n",
    "    #get next link path\n",
    "    soup = BeautifulSoup(c1.html())\n",
    "\n",
    "    #prep for ignoring links in history\n",
    "    p_pds = soup.find_all('a')\n",
    "    i = 0\n",
    "    pd = p_pds[i]\n",
    "\n",
    "    #if link currently selected is in history select the neareast one up instead\n",
    "    while  pd.get('title') in visited:\n",
    "        i += 1\n",
    "        pd = p_pds[i]\n",
    "\n",
    "    pn = pd.get('href')\n",
    "#----------------------------\n",
    "#visited.append('Philosophy')\n",
    "\n"
   ]
  },
  {
   "cell_type": "code",
   "execution_count": 6,
   "metadata": {},
   "outputs": [
    {
     "data": {
      "text/plain": [
       "['Telephone',\n",
       " 'Telecommunication',\n",
       " 'Transmission_(telecommunications)',\n",
       " 'Telecommunications',\n",
       " 'Analog_signal',\n",
       " 'Continuous_signal',\n",
       " 'Quantity',\n",
       " 'Magnitude_(mathematics)',\n",
       " 'Mathematics',\n",
       " 'Ancient_Greek',\n",
       " 'Greek_language',\n",
       " 'Modern_Greek',\n",
       " 'Help:IPA_for_Greek',\n",
       " 'International_Phonetic_Alphabet']"
      ]
     },
     "execution_count": 6,
     "metadata": {},
     "output_type": "execute_result"
    }
   ],
   "source": [
    "visited"
   ]
  },
  {
   "cell_type": "code",
   "execution_count": 7,
   "metadata": {},
   "outputs": [
    {
     "data": {
      "text/plain": [
       "<html><body><p>The <b>International Phonetic Alphabet</b> (<b>IPA</b>) is an <a href=\"/wiki/Alphabet\" title=\"Alphabet\">alphabetic</a> system of <a href=\"/wiki/Phonetic_transcription\" title=\"Phonetic transcription\">phonetic notation</a> based primarily on the <a href=\"/wiki/Latin_alphabet\" title=\"Latin alphabet\">Latin alphabet</a>. It was devised by the <a href=\"/wiki/International_Phonetic_Association\" title=\"International Phonetic Association\">International Phonetic Association</a> in the late <a href=\"/wiki/19th_century\" title=\"19th century\">19th century</a> as a standardized representation of the sounds of <a href=\"/wiki/Spoken_language\" title=\"Spoken language\">spoken language</a>.<sup class=\"reference\" id=\"cite_ref-IPA_1999_1-0\"><a href=\"#cite_note-IPA_1999-1\">[1]</a></sup> The IPA is used by <a href=\"/wiki/Lexicography\" title=\"Lexicography\">lexicographers</a>, <a href=\"/wiki/Foreign_language\" title=\"Foreign language\">foreign language</a> students and teachers, <a href=\"/wiki/Linguistics\" title=\"Linguistics\">linguists</a>, <a href=\"/wiki/Speech-language_pathology\" title=\"Speech-language pathology\">speech-language pathologists</a>, <a href=\"/wiki/Singing\" title=\"Singing\">singers</a>, <a href=\"/wiki/Actor\" title=\"Actor\">actors</a>, <a href=\"/wiki/Constructed_language\" title=\"Constructed language\">constructed language</a> creators and <a href=\"/wiki/Translation\" title=\"Translation\">translators</a>.<sup class=\"reference\" id=\"cite_ref-world_2-0\"><a href=\"#cite_note-world-2\">[2]</a></sup><sup class=\"reference\" id=\"cite_ref-3\"><a href=\"#cite_note-3\">[3]</a></sup></p></body></html>"
      ]
     },
     "execution_count": 7,
     "metadata": {},
     "output_type": "execute_result"
    }
   ],
   "source": [
    "soup"
   ]
  },
  {
   "cell_type": "code",
   "execution_count": 87,
   "metadata": {},
   "outputs": [
    {
     "data": {
      "text/plain": [
       "'Transmission (telecommunications)'"
      ]
     },
     "execution_count": 87,
     "metadata": {},
     "output_type": "execute_result"
    }
   ],
   "source": [
    "\n",
    "\n"
   ]
  },
  {
   "cell_type": "code",
   "execution_count": 68,
   "metadata": {},
   "outputs": [
    {
     "data": {
      "text/plain": [
       "['fAr', 'near', 'A']"
      ]
     },
     "execution_count": 68,
     "metadata": {},
     "output_type": "execute_result"
    }
   ],
   "source": []
  },
  {
   "cell_type": "code",
   "execution_count": null,
   "metadata": {
    "collapsed": true
   },
   "outputs": [],
   "source": []
  }
 ],
 "metadata": {
  "kernelspec": {
   "display_name": "Python 3",
   "language": "python",
   "name": "python3"
  },
  "language_info": {
   "codemirror_mode": {
    "name": "ipython",
    "version": 3
   },
   "file_extension": ".py",
   "mimetype": "text/x-python",
   "name": "python",
   "nbconvert_exporter": "python",
   "pygments_lexer": "ipython3",
   "version": "3.6.1"
  }
 },
 "nbformat": 4,
 "nbformat_minor": 2
}
